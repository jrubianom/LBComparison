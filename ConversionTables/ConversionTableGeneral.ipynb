{
 "cells": [
  {
   "cell_type": "code",
   "execution_count": 139,
   "id": "6d9dcaa2",
   "metadata": {},
   "outputs": [],
   "source": [
    "import numpy as np"
   ]
  },
  {
   "cell_type": "code",
   "execution_count": 140,
   "id": "73d2cc00",
   "metadata": {},
   "outputs": [],
   "source": [
    "#Values of Quantities of a second system ,lets call it Q, in SI\n",
    "eps0 = 8.8541878128e-12\n",
    "mu0 = 1.25663706212e-6\n",
    "#typical sigma. Sigma of Aluminium at 20 °C\n",
    "sigma0 = 3.77e7\n",
    "E0 = 100\n",
    "\n",
    "QSIvalues0 = np.asarray([eps0,mu0,sigma0,E0])\n",
    "\n",
    "#Conversion table from SI to atuomaton units a\n",
    "# eps0 [SI]   = 1 [a]\n",
    "# mu0 [SI]    = 2 [a]\n",
    "# sigma0[SI]  = 0.1 [a]\n",
    "# E0[SI]      = 1 [a]\n",
    "\n",
    "# values of quantities of Q in automaton units\n",
    "QAutomvalues0 = np.asarray([1,2,0.1,1])"
   ]
  },
  {
   "cell_type": "code",
   "execution_count": 141,
   "id": "c1a5ece7",
   "metadata": {},
   "outputs": [],
   "source": [
    "class ConversionTable:\n",
    "    def __init__(self,QAutomvalues0,QSIvalues0):\n",
    "        self.units1 = [\"A\",\"s\",\"Kg\",\"m\"]\n",
    "        self.units2 = [\"F/m\",\"Tesla m A^-1\",\"Siemens/m\",\"Volts/m\"]\n",
    "        self.values2 = [\"Epsilon0\",\"Mu0\",\"Sigma0\",\"E0\"]\n",
    "        \n",
    "        self.X_SI = np.asarray([[2,-2,2,-1],[4,-2,3,-3],[-1,1,-1,1],[-3,1,-3,1]])\n",
    "        self.Y_SI = np.linalg.inv(self.X_SI)\n",
    "        \n",
    "        self.QAutomvalues = QAutomvalues0\n",
    "        self.QSIvalues = QSIvalues0\n",
    "        \n",
    "        # Conversion of a unit quantity Q from SI to Automunits\n",
    "        self.QUnitsSI2Autom = QAutomvalues0/QSIvalues0\n",
    "        self.QUnitsAutom2SI = QSIvalues0/QAutomvalues0\n",
    "        \n",
    "        self.Aa = 0\n",
    "        self.Sa = 0\n",
    "        self.Kga = 0\n",
    "        self.ma = 0\n",
    "        self.AutomUnits2SI = np.asarray([0,0,0,0])\n",
    "        \n",
    "    # if a quantity u has units u = x_u [A]^n1[s]^n2[Kg]^n3[m]^n4, where x_u is dimensionless, then\n",
    "    # u = x_u [eps]^l1 [mus]^l2 [sigmas]^l3 [Es]^l4 . We get the vector l = [l1,l2,l3,l4] from n = [n1,n2,n3,n4] as follows\n",
    "    def powersSecondSystemSI(self,n):\n",
    "        m = np.asarray([n[0],n[1],n[2],n[3]])\n",
    "        return np.dot(self.Y_SI,m)\n",
    "    \n",
    "    #to pass from l --> n\n",
    "    def powersFirstSystemSI(self,l):\n",
    "        m = np.asarray([l[0],l[1],l[2],l[3]])\n",
    "        return np.dot(self.X_SI,m)\n",
    "    \n",
    "    #If u = x_u [A]^n1[s]^n2[Kg]^n3[m]^n4 , then in automat units will be\n",
    "    def ConversionSI2Autom(self,x_u,n):\n",
    "        l = self.powersSecondSystemSI(n)\n",
    "        return x_u*np.prod(np.power(self.QUnitsSI2Autom,l))\n",
    "    \n",
    "    #If u = x_u [eps]^l1 [mus]^l2 [sigmas]^l3 [Es]^l4  , then in automat units will be\n",
    "    def ConversionQSI2Autom(self,x_u,l):\n",
    "        return x_u*np.prod(np.power(self.QUnitsSI2Autom,l))\n",
    "\n",
    "    #If u = x_u [epsa]^l1 [mu0a]^l2 [sigma0a]^l3 [E0a]^l4 , then in SI units will be\n",
    "    def ConversionQAutom2SI(self,x_u,l):\n",
    "        return x_u*np.prod(np.power(self.QUnitsAutom2SI,l))\n",
    "    \n",
    "    def GetAutom2SI(self):\n",
    "        self.Aa = self.ConversionQAutom2SI(1,self.Y_SI[:,0])\n",
    "        self.Sa = self.ConversionQAutom2SI(1,self.Y_SI[:,1])\n",
    "        self.Kga = self.ConversionQAutom2SI(1,self.Y_SI[:,2])\n",
    "        self.ma = self.ConversionQAutom2SI(1,self.Y_SI[:,3])\n",
    "        \n",
    "        self.AutomUnits2SI = np.asarray([self.Aa,self.Sa,self.Kga,self.ma])\n",
    "        \n",
    "    #May be usefull to convert u = x_u [Aa]^n1[sa]^n2[Kga]^n3[ma]^n4  to SI units\n",
    "    def ConversionQAutom1SI(self,x_u,n):\n",
    "        self.GetAutom2SI()\n",
    "        return x_u*np.prod(np.power(self.AutomUnits2SI,n))\n",
    "    \n",
    "    \n",
    "    #values of [A,s,Kg,m] in automata units to SI units\n",
    "    def ShowTableAutom1_2SI(self):\n",
    "        I = np.eye(4)\n",
    "        print(\"Automaton units\\t SI units\")\n",
    "        for i in range(4):\n",
    "            print(self.units1[i]+\"\\t\",self.ConversionQAutom1SI(1,I[:,i]))\n",
    "            \n",
    "    #values of [epsilon0, mu0, sigma_AL,E00] in automata units to SI units\n",
    "    def ShowTableAutom2_2SI(self):\n",
    "        I = np.eye(4)\n",
    "        print(\"Automaton values\\t SI units\")\n",
    "        for i in range(4):\n",
    "            print(self.values2[i]+\"\\t\",self.ConversionQAutom2SI(self.QAutomvalues[i],I[:,i]))\n",
    "            \n",
    "    #values of [A,s,Kg,m] in SI units to automaton units\n",
    "    def ShowTableSI1_2Autom(self):\n",
    "        I = np.eye(4)\n",
    "        print(\"SI units\\t Automaton units\")\n",
    "        for i in range(4):\n",
    "            print(self.units1[i]+\"\\t\",self.ConversionSI2Autom(1,I[:,i]))\n",
    "            \n",
    "    #values of [epsilon0, mu0, sigma_AL,E00] in SI to automata units\n",
    "    def ShowTableSI2_2Autom(self):\n",
    "        I = np.eye(4)\n",
    "        print(\"SI values\\t Automaton units\")\n",
    "        for i in range(4):\n",
    "            print(self.values2[i]+\"\\t\",self.ConversionSI2Autom(self.QSIvalues[i],self.X_SI[:,i]))\n",
    "\n",
    "    "
   ]
  },
  {
   "cell_type": "code",
   "execution_count": 142,
   "id": "c990a4a5",
   "metadata": {},
   "outputs": [],
   "source": [
    "TableMiller = ConversionTable(QAutomvalues0,QSIvalues0)"
   ]
  },
  {
   "cell_type": "code",
   "execution_count": 143,
   "id": "9c85698f",
   "metadata": {
    "scrolled": true
   },
   "outputs": [
    {
     "name": "stdout",
     "output_type": "stream",
     "text": [
      "SI values\t Automaton units\n",
      "Epsilon0\t 1.0\n",
      "Mu0\t 2.0\n",
      "Sigma0\t 0.1\n",
      "E0\t 1.0\n",
      "\n",
      "SI units\t Automaton units\n",
      "A\t 267529999608.97778\n",
      "s\t 4.257872183996282e+19\n",
      "Kg\t 2.0563329298773154e+57\n",
      "m\t 100428486921.08458\n",
      "\n",
      "Automaton units\t SI units\n",
      "A\t 3.737898558896577e-12\n",
      "s\t 2.3485909317771882e-20\n",
      "Kg\t 4.863025755560223e-58\n",
      "m\t 9.95733412558318e-12\n",
      "\n",
      "Automaton values\t SI units\n",
      "Epsilon0\t 8.8541878128e-12\n",
      "Mu0\t 1.25663706212e-06\n",
      "Sigma0\t 37700000.0\n",
      "E0\t 100.0\n"
     ]
    }
   ],
   "source": [
    "TableMiller.ShowTableSI2_2Autom()\n",
    "print()\n",
    "TableMiller.ShowTableSI1_2Autom()\n",
    "print()\n",
    "TableMiller.ShowTableAutom1_2SI()\n",
    "print()\n",
    "TableMiller.ShowTableAutom2_2SI()"
   ]
  },
  {
   "cell_type": "code",
   "execution_count": 144,
   "id": "f55822d0",
   "metadata": {},
   "outputs": [
    {
     "data": {
      "text/plain": [
       "299792458.00000644"
      ]
     },
     "execution_count": 144,
     "metadata": {},
     "output_type": "execute_result"
    }
   ],
   "source": [
    "TableMiller.ConversionQAutom2SI(1/(2**0.5),[-0.5,-0.5,0,0])"
   ]
  },
  {
   "cell_type": "code",
   "execution_count": 145,
   "id": "4ee311c3",
   "metadata": {
    "scrolled": true
   },
   "outputs": [
    {
     "name": "stdout",
     "output_type": "stream",
     "text": [
      "SI values\t Automaton units\n",
      "Epsilon0\t 3.0\n",
      "Mu0\t 3.0000000000000004\n",
      "Sigma0\t 0.1\n",
      "E0\t 1.0\n",
      "\n",
      "SI units\t Automaton units\n",
      "A\t 535059999217.9554\n",
      "s\t 1.2773616551988843e+20\n",
      "Kg\t 7.851853579104633e+58\n",
      "m\t 142027328252.40683\n",
      "\n",
      "Automaton units\t SI units\n",
      "A\t 1.8689492794482886e-12\n",
      "s\t 7.828636439257295e-21\n",
      "Kg\t 1.27358462549684e-59\n",
      "m\t 7.04089848274009e-12\n",
      "\n",
      "Automaton values\t SI units\n",
      "Epsilon0\t 8.8541878128e-12\n",
      "Mu0\t 1.25663706212e-06\n",
      "Sigma0\t 37700000.0\n",
      "E0\t 100.0\n",
      "C value\n"
     ]
    },
    {
     "data": {
      "text/plain": [
       "299792458.0000065"
      ]
     },
     "execution_count": 145,
     "metadata": {},
     "output_type": "execute_result"
    }
   ],
   "source": [
    "QAutomvalues0Hause = np.asarray([3,3,0.1,1])\n",
    "TableHauser = ConversionTable(QAutomvalues0Hause,QSIvalues0)\n",
    "TableHauser.ShowTableSI2_2Autom()\n",
    "print()\n",
    "TableHauser.ShowTableSI1_2Autom()\n",
    "print()\n",
    "TableHauser.ShowTableAutom1_2SI()\n",
    "print()\n",
    "TableHauser.ShowTableAutom2_2SI()\n",
    "print(\"C value\")\n",
    "TableHauser.ConversionQAutom2SI(1/(9**0.5),[-0.5,-0.5,0,0])"
   ]
  },
  {
   "cell_type": "code",
   "execution_count": 146,
   "id": "a5efd7d2",
   "metadata": {},
   "outputs": [],
   "source": [
    "#Powers in Q system, ,i.e, in units of [eps,mu,sigm,E]\n",
    "#conversion from Table a to Table b\n",
    "def QTa2Tb(ValuesTa,Powers,Ta,Tb):\n",
    "    m = len(ValuesTa)\n",
    "    ValuesTb = np.zeros((1,m))\n",
    "    for i in range(m):\n",
    "        ValueSI = Ta.ConversionQAutom2SI(ValuesTa[i],Powers[:,i])\n",
    "        ValuesTb[i] = (Tb.ConversionQSI2Autom(ValueSI,Powers[:,i]))\n",
    "    return ValuesTb\n",
    "\n",
    "\n",
    "#Powers in system of [A,s,kg,m]\n",
    "#conversion from Table a to Table b\n",
    "def Ta2Tb(ValuesTa,Powers,Ta,Tb):\n",
    "    m = len(ValuesTa)\n",
    "    ValuesTb = np.zeros((1,m))\n",
    "    for i in range(m):\n",
    "        ValueSI = Ta.ConversionQAutom1SI(ValuesTa[i],Powers[:,i])\n",
    "        ValuesTb[i] = (Tb.ConversionSI2Autom(ValueSI,Powers[:,i]))\n",
    "    return ValuesTb"
   ]
  },
  {
   "cell_type": "code",
   "execution_count": 147,
   "id": "2c5cafd8",
   "metadata": {},
   "outputs": [
    {
     "data": {
      "text/plain": [
       "array([[0.125]])"
      ]
     },
     "execution_count": 147,
     "metadata": {},
     "output_type": "execute_result"
    }
   ],
   "source": [
    "Val = [0.125]\n",
    "Powers = np.asarray([0,0,0,1])\n",
    "Powers = np.reshape(Powers,(4,1))\n",
    "QTa2Tb(Val,Powers,TableMiller,TableHauser)"
   ]
  },
  {
   "cell_type": "code",
   "execution_count": 149,
   "id": "40e314f7",
   "metadata": {},
   "outputs": [
    {
     "data": {
      "text/plain": [
       "array([[0.33333333]])"
      ]
     },
     "execution_count": 149,
     "metadata": {},
     "output_type": "execute_result"
    }
   ],
   "source": [
    "Val = [1/(2)**0.5]\n",
    "Powers = np.asarray([0,-1,0,1])\n",
    "Powers = np.reshape(Powers,(4,1))\n",
    "Ta2Tb(Val,Powers,TableMiller,TableHauser)"
   ]
  }
 ],
 "metadata": {
  "kernelspec": {
   "display_name": "Python 3 (ipykernel)",
   "language": "python",
   "name": "python3"
  },
  "language_info": {
   "codemirror_mode": {
    "name": "ipython",
    "version": 3
   },
   "file_extension": ".py",
   "mimetype": "text/x-python",
   "name": "python",
   "nbconvert_exporter": "python",
   "pygments_lexer": "ipython3",
   "version": "3.9.13"
  }
 },
 "nbformat": 4,
 "nbformat_minor": 5
}
